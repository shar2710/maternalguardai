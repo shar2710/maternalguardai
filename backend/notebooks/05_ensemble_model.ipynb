{
 "cells": [
  {
   "cell_type": "code",
   "execution_count": 2,
   "id": "0c18cdcc-96f9-47ef-b8af-95edf9c85927",
   "metadata": {},
   "outputs": [
    {
     "name": "stdout",
     "output_type": "stream",
     "text": [
      "ensemble model\n",
      "              precision    recall  f1-score   support\n",
      "\n",
      "           0       0.96      0.99      0.98       536\n",
      "           1       0.67      0.41      0.51        34\n",
      "\n",
      "    accuracy                           0.95       570\n",
      "   macro avg       0.82      0.70      0.74       570\n",
      "weighted avg       0.95      0.95      0.95       570\n",
      "\n",
      "AUC-ROC: 0.9787093942054433\n"
     ]
    }
   ],
   "source": [
    "from sklearn.model_selection import train_test_split\n",
    "from sklearn.ensemble import VotingClassifier, RandomForestClassifier\n",
    "from sklearn.linear_model import LogisticRegression\n",
    "from sklearn.svm import SVC\n",
    "import xgboost as xgb\n",
    "import pandas as pd\n",
    "from sklearn.metrics import classification_report, roc_auc_score\n",
    "\n",
    "df=pd.read_csv('data/processed_data.csv')\n",
    "y=df['preeclampsia']\n",
    "X=df.drop('preeclampsia', axis=1)\n",
    "\n",
    "X_train, X_test, y_train, y_test = train_test_split(\n",
    "    X, y, test_size=0.2, stratify=y, random_state=42\n",
    ")\n",
    "\n",
    "log_clf=LogisticRegression(max_iter=1000, random_state=42)\n",
    "svm_clf=SVC(probability=True, kernel='rbf', random_state=42)\n",
    "rf_clf=RandomForestClassifier(n_estimators=100, random_state=42)\n",
    "xgb_clf=xgb.XGBClassifier(eval_metric='logloss', random_state=42)\n",
    "\n",
    "ensemble_clf=VotingClassifier(\n",
    "    estimators=[\n",
    "        ('LogReg', log_clf),\n",
    "        ('SVM', svm_clf),\n",
    "        ('RF', rf_clf),\n",
    "        ('XGB', xgb_clf)\n",
    "    ],\n",
    "    voting='soft'\n",
    ")\n",
    "\n",
    "ensemble_clf.fit(X_train, y_train)\n",
    "y_pred_ensemble=ensemble_clf.predict(X_test)\n",
    "y_proba_ensemble=ensemble_clf.predict_proba(X_test)[:, 1]\n",
    "\n",
    "print(\"ensemble model\")\n",
    "print(classification_report(y_test, y_pred_ensemble))\n",
    "print(\"AUC-ROC:\", roc_auc_score(y_test, y_proba_ensemble))"
   ]
  },
  {
   "cell_type": "code",
   "execution_count": null,
   "id": "f317ef60-d501-4e90-89b9-ed0d0f55b683",
   "metadata": {},
   "outputs": [],
   "source": []
  }
 ],
 "metadata": {
  "kernelspec": {
   "display_name": "Python 3 (ipykernel)",
   "language": "python",
   "name": "python3"
  },
  "language_info": {
   "codemirror_mode": {
    "name": "ipython",
    "version": 3
   },
   "file_extension": ".py",
   "mimetype": "text/x-python",
   "name": "python",
   "nbconvert_exporter": "python",
   "pygments_lexer": "ipython3",
   "version": "3.11.7"
  }
 },
 "nbformat": 4,
 "nbformat_minor": 5
}
