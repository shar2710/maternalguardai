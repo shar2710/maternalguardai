{
 "cells": [
  {
   "cell_type": "code",
   "execution_count": 10,
   "id": "4c7febda-1c80-4f11-951a-d4f3bfb27816",
   "metadata": {},
   "outputs": [
    {
     "name": "stdout",
     "output_type": "stream",
     "text": [
      "train shape: (2277, 8)\n",
      "test shape: (570, 8)\n"
     ]
    }
   ],
   "source": [
    "import pandas as pd\n",
    "import numpy as np\n",
    "from sklearn.model_selection import train_test_split\n",
    "\n",
    "df=pd.read_csv('data/processed_data.csv')\n",
    "X=df.drop(columns='preeclampsia')\n",
    "y=df['preeclampsia']\n",
    "\n",
    "X_train, X_test, y_train, y_test = train_test_split(\n",
    "    X, y, test_size=0.2, random_state=42, stratify=y\n",
    ")\n",
    "print(\"train shape:\", X_train.shape)\n",
    "print(\"test shape:\", X_test.shape)"
   ]
  },
  {
   "cell_type": "code",
   "execution_count": 11,
   "id": "393262c4-c8b8-440f-80c8-5bfe1f0dfe1f",
   "metadata": {},
   "outputs": [
    {
     "name": "stdout",
     "output_type": "stream",
     "text": [
      "Requirement already satisfied: xgboost in c:\\users\\sejal\\anaconda3\\lib\\site-packages (3.0.2)\n",
      "Requirement already satisfied: numpy in c:\\users\\sejal\\anaconda3\\lib\\site-packages (from xgboost) (1.24.3)\n",
      "Requirement already satisfied: scipy in c:\\users\\sejal\\anaconda3\\lib\\site-packages (from xgboost) (1.11.4)\n",
      "Note: you may need to restart the kernel to use updated packages.\n"
     ]
    }
   ],
   "source": [
    "pip install xgboost"
   ]
  },
  {
   "cell_type": "code",
   "execution_count": 12,
   "id": "84a00dae-117b-48de-b68e-f7860037c6bd",
   "metadata": {},
   "outputs": [
    {
     "name": "stdout",
     "output_type": "stream",
     "text": [
      "trained LogisticRegression\n",
      "trained RandomForest\n",
      "trained SVM\n",
      "trained XGBoost\n"
     ]
    }
   ],
   "source": [
    "from sklearn.ensemble import RandomForestClassifier\n",
    "from sklearn.linear_model import LogisticRegression\n",
    "from sklearn.svm import SVC\n",
    "from xgboost import XGBClassifier\n",
    "\n",
    "models = {\n",
    "    'LogisticRegression': LogisticRegression(max_iter=1000, class_weight='balanced'),\n",
    "    'RandomForest': RandomForestClassifier(n_estimators=100, class_weight='balanced'),\n",
    "    'SVM': SVC(kernel='rbf', probability=True, class_weight='balanced'),\n",
    "    'XGBoost': XGBClassifier(eval_metric='logloss')\n",
    "}\n",
    "\n",
    "for name, model in models.items():\n",
    "    model.fit(X_train, y_train)\n",
    "    print(f\"trained {name}\")"
   ]
  },
  {
   "cell_type": "code",
   "execution_count": 13,
   "id": "e0fbb00b-0d90-4e40-b03a-4df0c720898f",
   "metadata": {},
   "outputs": [
    {
     "name": "stdout",
     "output_type": "stream",
     "text": [
      "\n",
      "LogisticRegression Performance:\n",
      "Accuracy:  0.8825\n",
      "Precision: 0.3366\n",
      "Recall:    1.0000\n",
      "F1 Score:  0.5037\n",
      "AUC-ROC:   0.9530838454784899\n",
      "\n",
      "RandomForest Performance:\n",
      "Accuracy:  0.9632\n",
      "Precision: 0.7097\n",
      "Recall:    0.6471\n",
      "F1 Score:  0.6769\n",
      "AUC-ROC:   0.9823858647936787\n",
      "\n",
      "SVM Performance:\n",
      "Accuracy:  0.9053\n",
      "Precision: 0.3810\n",
      "Recall:    0.9412\n",
      "F1 Score:  0.5424\n",
      "AUC-ROC:   0.9739354697102722\n",
      "\n",
      "XGBoost Performance:\n",
      "Accuracy:  0.9544\n",
      "Precision: 0.6250\n",
      "Recall:    0.5882\n",
      "F1 Score:  0.6061\n",
      "AUC-ROC:   0.9787642669007901\n"
     ]
    }
   ],
   "source": [
    "from sklearn.metrics import accuracy_score, precision_score, recall_score, f1_score, roc_auc_score\n",
    "\n",
    "def evaluate_model(name, model, X_test, y_test):\n",
    "    y_pred=model.predict(X_test)\n",
    "    y_prob=model.predict_proba(X_test)[:, 1] if hasattr(model, \"predict_proba\") else None\n",
    "\n",
    "    acc=accuracy_score(y_test, y_pred)\n",
    "    prec=precision_score(y_test, y_pred)\n",
    "    rec=recall_score(y_test, y_pred)\n",
    "    f1=f1_score(y_test, y_pred)\n",
    "    auc=roc_auc_score(y_test, y_prob) if y_prob is not None else \"N/A\"\n",
    "\n",
    "    print(f\"\\n{name} Performance:\")\n",
    "    print(f\"Accuracy:  {acc:.4f}\")\n",
    "    print(f\"Precision: {prec:.4f}\")\n",
    "    print(f\"Recall:    {rec:.4f}\")\n",
    "    print(f\"F1 Score:  {f1:.4f}\")\n",
    "    print(f\"AUC-ROC:   {auc}\")\n",
    "\n",
    "for name, model in models.items():\n",
    "    evaluate_model(name, model, X_test, y_test)"
   ]
  },
  {
   "cell_type": "code",
   "execution_count": 14,
   "id": "c04688e5-9804-4e3b-acd5-a9bd89342cd7",
   "metadata": {},
   "outputs": [
    {
     "name": "stdout",
     "output_type": "stream",
     "text": [
      "Saved LogisticRegression\n",
      "Saved RandomForest\n",
      "Saved SVM\n",
      "Saved XGBoost\n"
     ]
    }
   ],
   "source": [
    "import joblib\n",
    "import os\n",
    "\n",
    "os.makedirs('models/', exist_ok=True)\n",
    "\n",
    "for name, model in models.items():\n",
    "    joblib.dump(model, f'models/{name}.pkl')\n",
    "    print(f\"Saved {name}\")\n"
   ]
  },
  {
   "cell_type": "code",
   "execution_count": 15,
   "id": "6889237b-5ebd-437f-bfa5-16e9aab14c5a",
   "metadata": {},
   "outputs": [
    {
     "name": "stdout",
     "output_type": "stream",
     "text": [
      "preeclampsia\n",
      "0    0.939937\n",
      "1    0.060063\n",
      "Name: proportion, dtype: float64\n"
     ]
    }
   ],
   "source": [
    "print(df['preeclampsia'].value_counts(normalize=True))\n"
   ]
  },
  {
   "cell_type": "code",
   "execution_count": 16,
   "id": "2302c568-61db-4f0f-a455-1f5b6d67a65d",
   "metadata": {},
   "outputs": [
    {
     "data": {
      "text/plain": [
       "Index(['preeclampsia', 'systolic_bp', 'mean_arterial_pressure', 'diastolic_bp',\n",
       "       'pulse_pressure', 'serum_uric_acid', 'uric_acid_creatinine_ratio',\n",
       "       'proteinuria_24h', 'protein_creatinine_ratio'],\n",
       "      dtype='object')"
      ]
     },
     "execution_count": 16,
     "metadata": {},
     "output_type": "execute_result"
    }
   ],
   "source": [
    "df.columns\n"
   ]
  }
 ],
 "metadata": {
  "kernelspec": {
   "display_name": "Python 3 (ipykernel)",
   "language": "python",
   "name": "python3"
  },
  "language_info": {
   "codemirror_mode": {
    "name": "ipython",
    "version": 3
   },
   "file_extension": ".py",
   "mimetype": "text/x-python",
   "name": "python",
   "nbconvert_exporter": "python",
   "pygments_lexer": "ipython3",
   "version": "3.11.7"
  }
 },
 "nbformat": 4,
 "nbformat_minor": 5
}
